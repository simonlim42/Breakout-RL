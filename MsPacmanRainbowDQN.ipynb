{
 "cells": [
  {
   "cell_type": "code",
   "execution_count": null,
   "id": "619f478d",
   "metadata": {},
   "outputs": [],
   "source": [
    "import gym\n",
    "import time\n",
    "env = gym.make(\"ALE/MsPacman-v5\",obs_type=\"grayscale\",render_mode=\"rgb_array\")\n",
    "\n",
    "#resized observeration\n",
    "# env = gym.wrappers.ResizeObservation(env, (80, 80))\n",
    "# print(env.observation_space)\n",
    "\n",
    "#stacked 4 frames (not sure how it works)\n",
    "# env = gym.wrappers.FrameStack(env, 4)\n",
    "env.reset()\n",
    "\n",
    "#another resized observation\n",
    "action = env.action_space.sample()\n",
    "new_state, reward, is_done, truncated,info=env.step(1)\n",
    "original_shape = new_state\n",
    "cropped = new_state[35:195]\n",
    "result = cropped[::2,::2]\n",
    "\n",
    "frame_time = 1.0 / 15 # seconds\n",
    "n_episodes = 1\n",
    " \n",
    "for i_episode in range(n_episodes):\n",
    "    t=0\n",
    "    score=0\n",
    "    then = 0\n",
    "    done = False\n",
    "    env.reset()\n",
    "    while not done:\n",
    "        now = time.time()\n",
    "        if frame_time < now - then:\n",
    "            action = env.action_space.sample()\n",
    "            observation, reward, done,_, info = env.step(action)\n",
    "            score += reward\n",
    "            env.render()\n",
    "            then = now\n",
    "            t=t+1\n",
    "    print('Episode {} finished at t {} with score {}'.format(i_episode,\n",
    "                                                             t,score))"
   ]
  }
 ],
 "metadata": {
  "kernelspec": {
   "display_name": "Python 3 (ipykernel)",
   "language": "python",
   "name": "python3"
  },
  "language_info": {
   "codemirror_mode": {
    "name": "ipython",
    "version": 3
   },
   "file_extension": ".py",
   "mimetype": "text/x-python",
   "name": "python",
   "nbconvert_exporter": "python",
   "pygments_lexer": "ipython3",
   "version": "3.9.12"
  }
 },
 "nbformat": 4,
 "nbformat_minor": 5
}
